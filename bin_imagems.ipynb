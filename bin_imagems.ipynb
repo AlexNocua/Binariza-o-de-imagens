{
 "cells": [
  {
   "cell_type": "markdown",
   "metadata": {},
   "source": [
    "Primeiro projeto de binarizacao de imagems com openCV.\n",
    "\n",
    "1. Importacao das bibliotecas"
   ]
  },
  {
   "cell_type": "code",
   "execution_count": 2,
   "metadata": {},
   "outputs": [],
   "source": [
    "import cv2 as cv"
   ]
  },
  {
   "cell_type": "markdown",
   "metadata": {},
   "source": [
    "2. Vamos ter primeiro uma imagem de um objeto."
   ]
  },
  {
   "cell_type": "code",
   "execution_count": 30,
   "metadata": {},
   "outputs": [
    {
     "data": {
      "text/plain": [
       "-1"
      ]
     },
     "execution_count": 30,
     "metadata": {},
     "output_type": "execute_result"
    }
   ],
   "source": [
    "img = cv.imread('pelota.jpg')\n",
    "cv.imshow('pelota', img)\n",
    "cv.waitKey(0)\n"
   ]
  },
  {
   "cell_type": "markdown",
   "metadata": {},
   "source": [
    "2. Vamos passar a imagem a tonalidade cinza"
   ]
  },
  {
   "cell_type": "code",
   "execution_count": 31,
   "metadata": {},
   "outputs": [
    {
     "data": {
      "text/plain": [
       "-1"
      ]
     },
     "execution_count": 31,
     "metadata": {},
     "output_type": "execute_result"
    }
   ],
   "source": [
    "img_cinza = cv.cvtColor(img, cv.COLOR_BGR2GRAY)\n",
    "cv.imshow('img_cinza', img_cinza)\n",
    "cv.waitKey(0)"
   ]
  },
  {
   "cell_type": "markdown",
   "metadata": {},
   "source": [
    "3. Agora aplicamos o filtro Gauseano na imagem"
   ]
  },
  {
   "cell_type": "code",
   "execution_count": 32,
   "metadata": {},
   "outputs": [
    {
     "data": {
      "text/plain": [
       "-1"
      ]
     },
     "execution_count": 32,
     "metadata": {},
     "output_type": "execute_result"
    }
   ],
   "source": [
    "imagem_suave = cv.GaussianBlur (img_cinza,(7,7),0)\n",
    "cv.imshow('imagem_suave', imagem_suave)\n",
    "cv.waitKey(0)"
   ]
  },
  {
   "cell_type": "markdown",
   "metadata": {},
   "source": [
    "4. Fazemos a convercao da imagen ja suavizada pro binario"
   ]
  },
  {
   "cell_type": "code",
   "execution_count": 33,
   "metadata": {},
   "outputs": [
    {
     "name": "stdout",
     "output_type": "stream",
     "text": [
      "160.0 [[0 0 0 ... 0 0 0]\n",
      " [0 0 0 ... 0 0 0]\n",
      " [0 0 0 ... 0 0 0]\n",
      " ...\n",
      " [0 0 0 ... 0 0 0]\n",
      " [0 0 0 ... 0 0 0]\n",
      " [0 0 0 ... 0 0 0]]\n"
     ]
    },
    {
     "data": {
      "text/plain": [
       "-1"
      ]
     },
     "execution_count": 33,
     "metadata": {},
     "output_type": "execute_result"
    }
   ],
   "source": [
    "t, img_bin = cv.threshold(imagem_suave, 160, 255, cv.THRESH_BINARY)\n",
    "print(t, img_bin)\n",
    "cv.imshow('img_bin1', img_bin)\n",
    "cv.waitKey(0)\n",
    "t_2, img_bin_2 = cv.threshold(imagem_suave, 160, 255, cv.THRESH_BINARY_INV)\n",
    "cv.imshow('img_bin2', img_bin_2)\n",
    "cv.waitKey(0)\n",
    "# Combinacao das dois binarizacoes\n"
   ]
  },
  {
   "cell_type": "markdown",
   "metadata": {},
   "source": [
    "5. Combinamos o resultado das dois binarizacoes"
   ]
  },
  {
   "cell_type": "code",
   "execution_count": 34,
   "metadata": {},
   "outputs": [],
   "source": [
    "import numpy as np\n",
    "resultado = np.vstack([\n",
    "    np.hstack([imagem_suave, img_bin]),\n",
    "    np.hstack([img_bin, cv.bitwise_and(img_cinza ,img_cinza, mask=img_bin)])\n",
    "])\n",
    "\n",
    "escala = 0.1  \n",
    "largura = int(resultado.shape[1] * escala)\n",
    "altura = int(resultado.shape[0] * escala)\n",
    "dimencoes = (largura, altura)\n",
    "\n",
    "resultado_redimensionado = cv.resize(resultado, dimencoes, interpolation=cv.INTER_AREA)\n",
    "\n",
    "# Resultado redimensionado\n",
    "cv.imshow('Resultado Redimensionado', resultado_redimensionado)\n",
    "cv.waitKey(0)\n",
    "cv.destroyAllWindows()\n"
   ]
  }
 ],
 "metadata": {
  "kernelspec": {
   "display_name": "Python 3",
   "language": "python",
   "name": "python3"
  },
  "language_info": {
   "codemirror_mode": {
    "name": "ipython",
    "version": 3
   },
   "file_extension": ".py",
   "mimetype": "text/x-python",
   "name": "python",
   "nbconvert_exporter": "python",
   "pygments_lexer": "ipython3",
   "version": "3.9.7"
  }
 },
 "nbformat": 4,
 "nbformat_minor": 2
}
